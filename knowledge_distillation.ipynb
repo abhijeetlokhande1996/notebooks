{
 "cells": [
  {
   "cell_type": "code",
   "execution_count": 1,
   "metadata": {},
   "outputs": [
    {
     "name": "stdout",
     "output_type": "stream",
     "text": [
      "TensorFlow Version: 2.13.0\n"
     ]
    }
   ],
   "source": [
    "import tensorflow as tf\n",
    "import numpy as np\n",
    "print(\"TensorFlow Version:\", tf.__version__)"
   ]
  },
  {
   "cell_type": "code",
   "execution_count": 2,
   "metadata": {},
   "outputs": [
    {
     "name": "stdout",
     "output_type": "stream",
     "text": [
      "[PhysicalDevice(name='/physical_device:CPU:0', device_type='CPU'), PhysicalDevice(name='/physical_device:GPU:0', device_type='GPU')]\n"
     ]
    }
   ],
   "source": [
    "devices = tf.config.list_physical_devices()\n",
    "print(devices)"
   ]
  },
  {
   "cell_type": "markdown",
   "metadata": {},
   "source": [
    "## Data Preparation"
   ]
  },
  {
   "cell_type": "code",
   "execution_count": 3,
   "metadata": {},
   "outputs": [],
   "source": [
    "batch_size = 64\n",
    "(x_train, y_train), (x_test, y_test) = tf.keras.datasets.mnist.load_data()\n",
    "\n",
    "# normalise data\n",
    "x_train = x_train.astype(np.float32) / 255.0\n",
    "x_test = x_test.astype(np.float32) / 255.0\n",
    "\n",
    "# add a channels dimension\n",
    "x_train = np.reshape(x_train, (-1, 28, 28, 1))\n",
    "x_test = np.reshape(x_test, (-1, 28, 28, 1))"
   ]
  },
  {
   "cell_type": "markdown",
   "metadata": {},
   "source": [
    "## Define and Train Teacher Model (Teracher Model used for Knowledge Distillation)"
   ]
  },
  {
   "cell_type": "code",
   "execution_count": 4,
   "metadata": {},
   "outputs": [
    {
     "name": "stdout",
     "output_type": "stream",
     "text": [
      "Epoch 1/5\n"
     ]
    },
    {
     "name": "stderr",
     "output_type": "stream",
     "text": [
      "2023-12-31 11:27:33.751349: I metal_plugin/src/device/metal_device.cc:1154] Metal device set to: Apple M2\n",
      "2023-12-31 11:27:33.751372: I metal_plugin/src/device/metal_device.cc:296] systemMemory: 16.00 GB\n",
      "2023-12-31 11:27:33.751377: I metal_plugin/src/device/metal_device.cc:313] maxCacheSize: 5.33 GB\n",
      "2023-12-31 11:27:33.751411: I tensorflow/core/common_runtime/pluggable_device/pluggable_device_factory.cc:303] Could not identify NUMA node of platform GPU ID 0, defaulting to 0. Your kernel may not have been built with NUMA support.\n",
      "2023-12-31 11:27:33.751427: I tensorflow/core/common_runtime/pluggable_device/pluggable_device_factory.cc:269] Created TensorFlow device (/job:localhost/replica:0/task:0/device:GPU:0 with 0 MB memory) -> physical PluggableDevice (device: 0, name: METAL, pci bus id: <undefined>)\n",
      "2023-12-31 11:27:34.060641: I tensorflow/core/grappler/optimizers/custom_graph_optimizer_registry.cc:114] Plugin optimizer for device_type GPU is enabled.\n"
     ]
    },
    {
     "name": "stdout",
     "output_type": "stream",
     "text": [
      "938/938 - 29s - loss: 0.1489 - sparse_categorical_accuracy: 0.9531 - 29s/epoch - 31ms/step\n",
      "Epoch 2/5\n",
      "938/938 - 30s - loss: 0.0772 - sparse_categorical_accuracy: 0.9766 - 30s/epoch - 32ms/step\n",
      "Epoch 3/5\n",
      "938/938 - 29s - loss: 0.0654 - sparse_categorical_accuracy: 0.9799 - 29s/epoch - 31ms/step\n",
      "Epoch 4/5\n",
      "938/938 - 29s - loss: 0.0598 - sparse_categorical_accuracy: 0.9813 - 29s/epoch - 31ms/step\n",
      "Epoch 5/5\n",
      "938/938 - 30s - loss: 0.0546 - sparse_categorical_accuracy: 0.9839 - 30s/epoch - 32ms/step\n"
     ]
    },
    {
     "name": "stderr",
     "output_type": "stream",
     "text": [
      "2023-12-31 11:30:01.214182: I tensorflow/core/grappler/optimizers/custom_graph_optimizer_registry.cc:114] Plugin optimizer for device_type GPU is enabled.\n"
     ]
    },
    {
     "name": "stdout",
     "output_type": "stream",
     "text": [
      "157/157 - 2s - loss: 0.0666 - sparse_categorical_accuracy: 0.9800 - 2s/epoch - 10ms/step\n"
     ]
    },
    {
     "data": {
      "text/plain": [
       "[0.06659075617790222, 0.9800000190734863]"
      ]
     },
     "execution_count": 4,
     "metadata": {},
     "output_type": "execute_result"
    }
   ],
   "source": [
    "# create teacher model\n",
    "\n",
    "teacher = tf.keras.Sequential([\n",
    "    tf.keras.Input(shape=(28, 28, 1)),\n",
    "    tf.keras.layers.Conv2D(256, (3, 3), strides=(2, 2), padding=\"same\"),\n",
    "    tf.keras.layers.ReLU(negative_slope=0.2),\n",
    "    tf.keras.layers.MaxPooling2D(pool_size=(\n",
    "        2, 2), strides=(1, 1), padding=\"same\"),\n",
    "    tf.keras.layers.Conv2D(512, (3, 3), strides=(2, 2), padding=\"same\"),\n",
    "    tf.keras.layers.Flatten(),\n",
    "    tf.keras.layers.Dense(10),\n",
    "], name=\"teacher\")\n",
    "\n",
    "\n",
    "teacher.compile(\n",
    "    optimizer=tf.keras.optimizers.legacy.Adam(),\n",
    "    loss=tf.keras.losses.SparseCategoricalCrossentropy(from_logits=True),\n",
    "    metrics=[tf.keras.metrics.SparseCategoricalAccuracy()],\n",
    ")\n",
    "\n",
    "teacher.fit(x_train, y_train, batch_size=batch_size, epochs=5, verbose=2)\n",
    "\n",
    "teacher.evaluate(x_test, y_test, batch_size=batch_size, verbose=2)"
   ]
  },
  {
   "cell_type": "code",
   "execution_count": 5,
   "metadata": {},
   "outputs": [],
   "source": [
    "# define distiller class, Pass teacher model and student model\n",
    "# we will train student model to mimic teacher model\n",
    "# our total loss will be a combination of student loss and distillation loss with some weight factor\n",
    "# distillation loss is calculated uasing KL divergence between teacher and student logits (student model should learn output probability distribution of teacher model)\n",
    "# we will use softmax activation with temperature factor to soften the logits\n",
    "\n",
    "\n",
    "class Distiller(tf.keras.Model):\n",
    "    def __init__(self, teacher, student):\n",
    "        super(Distiller, self).__init__()\n",
    "        self.teacher = teacher\n",
    "        self.student = student\n",
    "\n",
    "    def call(self, x):\n",
    "        return self.student(x)\n",
    "    \n",
    "    def compile(\n",
    "        self,\n",
    "        optimizer,\n",
    "        metrics,\n",
    "        student_loss_fn,\n",
    "        distillation_loss_fn,\n",
    "        alpha=0.1,\n",
    "        temperature=3,\n",
    "    ):\n",
    "        super(Distiller, self).compile(optimizer=optimizer, metrics=metrics)\n",
    "        self.student_loss_fn = student_loss_fn\n",
    "        self.distillation_loss_fn = distillation_loss_fn\n",
    "        self.alpha = alpha\n",
    "        self.temperature = temperature\n",
    "    \n",
    "    def compute_loss(self, x=None, y=None, y_pred=None, sample_weight=None):\n",
    "        teacher_pred = self.teacher(x, training=False)\n",
    "        student_loss = self.student_loss_fn(y, y_pred)\n",
    "        distillation_loss = self.distillation_loss_fn(\n",
    "            tf.nn.softmax(teacher_pred / self.temperature, axis=1),\n",
    "            tf.nn.softmax(y_pred / self.temperature, axis=1),\n",
    "        ) * (self.temperature ** 2)\n",
    "        loss = self.alpha * student_loss + (1 - self.alpha) * distillation_loss\n",
    "        return loss\n",
    "\n"
   ]
  },
  {
   "cell_type": "code",
   "execution_count": 7,
   "metadata": {},
   "outputs": [],
   "source": [
    "student = tf.keras.Sequential([\n",
    "    tf.keras.Input(shape=(28, 28, 1)),\n",
    "    tf.keras.layers.Conv2D(16, (3, 3), strides=(2, 2), padding=\"same\"),\n",
    "    tf.keras.layers.ReLU(negative_slope=0.2),\n",
    "    tf.keras.layers.MaxPooling2D(pool_size=(\n",
    "        2, 2), strides=(1, 1), padding=\"same\"),\n",
    "    tf.keras.layers.Conv2D(32, (3, 3), strides=(2, 2), padding=\"same\"),\n",
    "    tf.keras.layers.Flatten(),\n",
    "    tf.keras.layers.Dense(10),\n",
    "], name=\"students\")\n",
    "\n",
    "\n",
    "# Clone student for later comparison\n",
    "student_scratch = tf.keras.models.clone_model(student)"
   ]
  },
  {
   "cell_type": "code",
   "execution_count": 9,
   "metadata": {},
   "outputs": [
    {
     "name": "stdout",
     "output_type": "stream",
     "text": [
      "Epoch 1/10\n"
     ]
    },
    {
     "name": "stderr",
     "output_type": "stream",
     "text": [
      "2023-12-31 11:44:08.669326: I tensorflow/core/grappler/optimizers/custom_graph_optimizer_registry.cc:114] Plugin optimizer for device_type GPU is enabled.\n"
     ]
    },
    {
     "name": "stdout",
     "output_type": "stream",
     "text": [
      "1875/1875 [==============================] - 36s 19ms/step - sparse_categorical_accuracy: 0.9718\n",
      "Epoch 2/10\n",
      "1875/1875 [==============================] - 36s 19ms/step - sparse_categorical_accuracy: 0.9738\n",
      "Epoch 3/10\n",
      "1875/1875 [==============================] - 36s 19ms/step - sparse_categorical_accuracy: 0.9757\n",
      "Epoch 4/10\n",
      "1875/1875 [==============================] - 36s 19ms/step - sparse_categorical_accuracy: 0.9767\n",
      "Epoch 5/10\n",
      "1875/1875 [==============================] - 35s 19ms/step - sparse_categorical_accuracy: 0.9779\n",
      "Epoch 6/10\n",
      "1875/1875 [==============================] - 35s 19ms/step - sparse_categorical_accuracy: 0.9787\n",
      "Epoch 7/10\n",
      "1875/1875 [==============================] - 36s 19ms/step - sparse_categorical_accuracy: 0.9797\n",
      "Epoch 8/10\n",
      "1875/1875 [==============================] - 36s 19ms/step - sparse_categorical_accuracy: 0.9801\n",
      "Epoch 9/10\n",
      "1875/1875 [==============================] - 35s 19ms/step - sparse_categorical_accuracy: 0.9809\n",
      "Epoch 10/10\n",
      "1875/1875 [==============================] - 36s 19ms/step - sparse_categorical_accuracy: 0.9815\n",
      " 51/313 [===>..........................] - ETA: 0s - sparse_categorical_accuracy: 0.9749"
     ]
    },
    {
     "name": "stderr",
     "output_type": "stream",
     "text": [
      "2023-12-31 11:50:05.393172: I tensorflow/core/grappler/optimizers/custom_graph_optimizer_registry.cc:114] Plugin optimizer for device_type GPU is enabled.\n"
     ]
    },
    {
     "name": "stdout",
     "output_type": "stream",
     "text": [
      "313/313 [==============================] - 1s 3ms/step - sparse_categorical_accuracy: 0.9812\n",
      "student model accuracy: 0.9811999797821045\n"
     ]
    }
   ],
   "source": [
    "distiller = Distiller(teacher=teacher, student=student)\n",
    "\n",
    "distiller.compile(\n",
    "    optimizer=tf.keras.optimizers.legacy.Adam(),\n",
    "    metrics=[tf.keras.metrics.SparseCategoricalAccuracy()],\n",
    "    student_loss_fn=tf.keras.losses.SparseCategoricalCrossentropy(from_logits=True),\n",
    "    distillation_loss_fn=tf.keras.losses.KLDivergence(),\n",
    "    alpha=0.1,\n",
    "    temperature=10,\n",
    ")\n",
    "\n",
    "\n",
    "# Distill teacher to student\n",
    "distiller.fit(x_train, y_train, epochs=10)\n",
    "\n",
    "# Evaluate student on test dataset\n",
    "test_accuracy = distiller.evaluate(x_test, y_test)\n",
    "print(\"student model accuracy:\", test_accuracy)"
   ]
  },
  {
   "cell_type": "code",
   "execution_count": null,
   "metadata": {},
   "outputs": [],
   "source": []
  }
 ],
 "metadata": {
  "kernelspec": {
   "display_name": "tensorflow",
   "language": "python",
   "name": "python3"
  },
  "language_info": {
   "codemirror_mode": {
    "name": "ipython",
    "version": 3
   },
   "file_extension": ".py",
   "mimetype": "text/x-python",
   "name": "python",
   "nbconvert_exporter": "python",
   "pygments_lexer": "ipython3",
   "version": "3.10.12"
  }
 },
 "nbformat": 4,
 "nbformat_minor": 2
}
